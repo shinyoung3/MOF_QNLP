{
 "cells": [
  {
   "cell_type": "markdown",
   "metadata": {},
   "source": [
    "## 1. Generate MOF with Target property \n",
    "\n",
    "Use `generate_mof` function to create a MOF candidate with your chosen target class and property.\n",
    "\n",
    " - `target_class`: The performance you want. Choose one of: `\"low\"`, `\"mod low\"`, `\"mod high\"`, or `\"high\"`.\n",
    " - `target_property`: The target properyt. Choose either `\"pore volume\"` or `\"co2 henry's constant\"`.\n",
    "\n",
    "This function will search for a MOF structure matching your desired class and property, and return a dictionary containing the MOF name and addition prediction informantion."
   ]
  },
  {
   "cell_type": "markdown",
   "metadata": {},
   "source": [
    "### Example:"
   ]
  },
  {
   "cell_type": "code",
   "execution_count": 1,
   "metadata": {},
   "outputs": [
    {
     "name": "stdout",
     "output_type": "stream",
     "text": [
      "Iteration 1: Evaluating MOF: kag N123 E14 for target class: high, property: pore volume\n",
      "q1: Prediction Probs: [0.3381295 0.6618705], Relative Prob Label 0: 0.522\n",
      "q2: Prediction Probs: [0.29015544 0.70984456], Relative Prob Label 0: 0.448\n",
      "q3: Prediction Probs: [0.00152207 0.99847793], Relative Prob Label 0: 0.002\n",
      "q4: Prediction Probs: [0.01818182 0.98181818], Relative Prob Label 0: 0.028\n",
      "Iteration 2: Evaluating MOF: kag N106 E1 for target class: high, property: pore volume\n",
      "q1: Prediction Probs: [0.00317965 0.99682035], Relative Prob Label 0: 0.003\n",
      "q2: Prediction Probs: [0.17012448 0.82987552], Relative Prob Label 0: 0.148\n",
      "q3: Prediction Probs: [0.12389381 0.87610619], Relative Prob Label 0: 0.108\n",
      "q4: Prediction Probs: [0.85263158 0.14736842], Relative Prob Label 0: 0.742\n",
      "Iteration 3: Evaluating MOF: pcu N139 E8 for target class: high, property: pore volume\n",
      "q1: Prediction Probs: [0.33467742 0.66532258], Relative Prob Label 0: 0.267\n",
      "q2: Prediction Probs: [0.88235294 0.11764706], Relative Prob Label 0: 0.704\n",
      "q3: Prediction Probs: [0.03684211 0.96315789], Relative Prob Label 0: 0.029\n",
      "q4: Prediction Probs: [0. 1.], Relative Prob Label 0: 0.000\n",
      "Iteration 4: Evaluating MOF: pcu N248 E28 for target class: high, property: pore volume\n",
      "q1: Prediction Probs: [0.33492823 0.66507177], Relative Prob Label 0: 0.295\n",
      "q2: Prediction Probs: [0.01149425 0.98850575], Relative Prob Label 0: 0.010\n",
      "q3: Prediction Probs: [0.78321678 0.21678322], Relative Prob Label 0: 0.690\n",
      "q4: Prediction Probs: [0.00561798 0.99438202], Relative Prob Label 0: 0.005\n",
      "Iteration 5: Evaluating MOF: lcy N394 E9 for target class: high, property: pore volume\n",
      "q1: Prediction Probs: [0.03514377 0.96485623], Relative Prob Label 0: 0.031\n",
      "q2: Prediction Probs: [0.01154734 0.98845266], Relative Prob Label 0: 0.010\n",
      "q3: Prediction Probs: [0.69473684 0.30526316], Relative Prob Label 0: 0.622\n",
      "q4: Prediction Probs: [0.37638376 0.62361624], Relative Prob Label 0: 0.337\n",
      "Iteration 6: Evaluating MOF: lcy N106 E35 for target class: high, property: pore volume\n",
      "q1: Prediction Probs: [0.00770713 0.99229287], Relative Prob Label 0: 0.008\n",
      "q2: Prediction Probs: [0.76847291 0.23152709], Relative Prob Label 0: 0.803\n",
      "q3: Prediction Probs: [0.17721519 0.82278481], Relative Prob Label 0: 0.185\n",
      "q4: Prediction Probs: [0.00363636 0.99636364], Relative Prob Label 0: 0.004\n",
      "Iteration 7: Evaluating MOF: pcu N144 E70 for target class: high, property: pore volume\n",
      "q1: Prediction Probs: [0.97385621 0.02614379], Relative Prob Label 0: 0.870\n",
      "q2: Prediction Probs: [0.10714286 0.89285714], Relative Prob Label 0: 0.096\n",
      "q3: Prediction Probs: [0.03703704 0.96296296], Relative Prob Label 0: 0.033\n",
      "q4: Prediction Probs: [0.00181159 0.99818841], Relative Prob Label 0: 0.002\n",
      "Iteration 8: Evaluating MOF: pcu N106 E220 for target class: high, property: pore volume\n",
      "q1: Prediction Probs: [0.80152672 0.19847328], Relative Prob Label 0: 0.706\n",
      "q2: Prediction Probs: [0.31538462 0.68461538], Relative Prob Label 0: 0.278\n",
      "q3: Prediction Probs: [0.01879699 0.98120301], Relative Prob Label 0: 0.017\n",
      "q4: Prediction Probs: [0. 1.], Relative Prob Label 0: 0.000\n",
      "Iteration 9: Evaluating MOF: lcy N123 E59 for target class: high, property: pore volume\n",
      "q1: Prediction Probs: [0.04282116 0.95717884], Relative Prob Label 0: 0.039\n",
      "q2: Prediction Probs: [0.04567308 0.95432692], Relative Prob Label 0: 0.041\n",
      "q3: Prediction Probs: [0.10422535 0.89577465], Relative Prob Label 0: 0.094\n",
      "q4: Prediction Probs: [0.91634981 0.08365019], Relative Prob Label 0: 0.826\n",
      "Iteration 10: Evaluating MOF: kag N505 E9 for target class: high, property: pore volume\n",
      "q1: Prediction Probs: [0.00692042 0.99307958], Relative Prob Label 0: 0.008\n",
      "q2: Prediction Probs: [0.03269755 0.96730245], Relative Prob Label 0: 0.037\n",
      "q3: Prediction Probs: [0.23880597 0.76119403], Relative Prob Label 0: 0.272\n",
      "q4: Prediction Probs: [0.5989011 0.4010989], Relative Prob Label 0: 0.683\n",
      "Iteration 11: Evaluating MOF: kag N248 E59 for target class: high, property: pore volume\n",
      "q1: Prediction Probs: [0.02331002 0.97668998], Relative Prob Label 0: 0.027\n",
      "q2: Prediction Probs: [0.20437956 0.79562044], Relative Prob Label 0: 0.237\n",
      "q3: Prediction Probs: [0.05135135 0.94864865], Relative Prob Label 0: 0.059\n",
      "q4: Prediction Probs: [0.58441558 0.41558442], Relative Prob Label 0: 0.677\n",
      "Iteration 12: Evaluating MOF: kag N144 E15 for target class: high, property: pore volume\n",
      "q1: Prediction Probs: [0.80357143 0.19642857], Relative Prob Label 0: 0.742\n",
      "q2: Prediction Probs: [0.12244898 0.87755102], Relative Prob Label 0: 0.113\n",
      "q3: Prediction Probs: [0. 1.], Relative Prob Label 0: 0.000\n",
      "q4: Prediction Probs: [0.15646259 0.84353741], Relative Prob Label 0: 0.145\n",
      "Iteration 13: Evaluating MOF: kag N173 E225 for target class: high, property: pore volume\n",
      "q1: Prediction Probs: [0.01 0.99], Relative Prob Label 0: 0.010\n",
      "q2: Prediction Probs: [0.06510417 0.93489583], Relative Prob Label 0: 0.062\n",
      "q3: Prediction Probs: [0.05300353 0.94699647], Relative Prob Label 0: 0.051\n",
      "q4: Prediction Probs: [0.91973244 0.08026756], Relative Prob Label 0: 0.878\n",
      "Best Model: q4, Predicted Class: high, Predicted Label: 0, True Label: 0, Correctness: correct\n",
      "\n",
      "The final MOF structure with desired property is: kag N173 E225\n"
     ]
    }
   ],
   "source": [
    "from mof_qnlp import generate_mof\n",
    "\n",
    "target_class = \"high\"\n",
    "target_property = \"pore volume\"\n",
    "\n",
    "result = generate_mof(target_class , target_property)"
   ]
  },
  {
   "cell_type": "markdown",
   "metadata": {},
   "source": [
    "## 2. Build the MOF structure and Write to CIF\n",
    "\n",
    "Use `build_mof_from_name` to construct the 3D MOF structure and save it as a .cif file.\n",
    "\n",
    "This function will parse the MOF name into topology, node, and edge, then automatically save the resulting MOF to a .cif file in your current working directory"
   ]
  },
  {
   "cell_type": "code",
   "execution_count": 2,
   "metadata": {},
   "outputs": [],
   "source": [
    "from mof_qnlp import build_mof_from_name"
   ]
  },
  {
   "cell_type": "code",
   "execution_count": 3,
   "metadata": {},
   "outputs": [
    {
     "name": "stderr",
     "output_type": "stream",
     "text": [
      ">>> == Min RMSD of (node type: 0, node bb: N173): 1.30E-01\n",
      ">>> Pre-location at node slot 0, (node type: 0, node bb: N173), RMSD: 1.30E-01\n",
      ">>> Pre-location at node slot 1, (node type: 0, node bb: N173), RMSD: 1.30E-01\n",
      ">>> Pre-location at node slot 2, (node type: 0, node bb: N173), RMSD: 1.30E-01\n",
      ">>> Topology optimization starts.\n",
      "An NVIDIA GPU may be present on this machine, but a CUDA-enabled jaxlib is not installed. Falling back to cpu.\n",
      ">>> MESSAGE: CONVERGENCE: REL_REDUCTION_OF_F_<=_FACTR*EPSMCH\n",
      ">>> SUCCESS: True\n",
      ">>> ITER: 24\n",
      ">>> OBJ: 0.061\n",
      ">>> Location at node slot 0, (node type: 0, node bb: N173), RMSD: 1.06E-01\n",
      ">>> Location at node slot 1, (node type: 0, node bb: N173), RMSD: 1.33E-01\n",
      ">>> Location at node slot 2, (node type: 0, node bb: N173), RMSD: 9.28E-02\n",
      ">>> Start placing edges.\n",
      "/home/young33/anaconda3/envs/qnlg/lib/python3.9/site-packages/pormake/locator.py:20: UserWarning: Optimal rotation is not uniquely or poorly defined for the given sets of vectors.\n",
      "  U, rmsd = scipy.spatial.transform.Rotation.align_vectors(p, q)\n",
      ">>> Start finding bonds in generated framework.\n",
      ">>> Start finding bonds in building blocks.\n",
      ">>> Start finding bonds between building blocks.\n",
      ">>> Start making Framework instance.\n"
     ]
    },
    {
     "name": "stdout",
     "output_type": "stream",
     "text": [
      "Parsing MOF: Topology = kag, Node = N173, Edge = E225\n"
     ]
    },
    {
     "name": "stderr",
     "output_type": "stream",
     "text": [
      ">>> Construction of framework done.\n"
     ]
    },
    {
     "name": "stdout",
     "output_type": "stream",
     "text": [
      "MOF CIF written to kag_N173_E225.cif\n"
     ]
    }
   ],
   "source": [
    "mof_name = result[\"mof_name\"]\n",
    "mof_candidate = build_mof_from_name(mof_name)"
   ]
  },
  {
   "cell_type": "markdown",
   "metadata": {},
   "source": [
    "You can also visualize the MOF structure"
   ]
  },
  {
   "cell_type": "code",
   "execution_count": 4,
   "metadata": {},
   "outputs": [],
   "source": [
    "mof_candidate.view()"
   ]
  }
 ],
 "metadata": {
  "kernelspec": {
   "display_name": "qnlg",
   "language": "python",
   "name": "python3"
  },
  "language_info": {
   "codemirror_mode": {
    "name": "ipython",
    "version": 3
   },
   "file_extension": ".py",
   "mimetype": "text/x-python",
   "name": "python",
   "nbconvert_exporter": "python",
   "pygments_lexer": "ipython3",
   "version": "3.9.0"
  }
 },
 "nbformat": 4,
 "nbformat_minor": 2
}
